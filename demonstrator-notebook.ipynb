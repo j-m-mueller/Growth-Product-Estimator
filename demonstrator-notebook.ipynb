{
 "cells": [
  {
   "cell_type": "markdown",
   "id": "5a80b350-efbc-4e4e-be45-2f919825bc94",
   "metadata": {},
   "source": [
    "# Growth Product Estimator Demo Notebook"
   ]
  },
  {
   "cell_type": "code",
   "execution_count": null,
   "id": "70a6dbc0-5e3d-4b50-888d-9e6fbcd6157c",
   "metadata": {},
   "outputs": [],
   "source": [
    "import sys"
   ]
  },
  {
   "cell_type": "code",
   "execution_count": null,
   "id": "f6639c8e-8751-41fa-b82e-06e9c881b36f",
   "metadata": {},
   "outputs": [],
   "source": [
    "sys.path.insert(0, \".\")"
   ]
  },
  {
   "cell_type": "code",
   "execution_count": null,
   "id": "8dad74f1-41c7-4dc6-b632-7cff01fee7b8",
   "metadata": {},
   "outputs": [],
   "source": [
    "from estimator import Estimator"
   ]
  },
  {
   "cell_type": "code",
   "execution_count": null,
   "id": "15902ca9-6bea-4a45-ad20-5a992fed0164",
   "metadata": {},
   "outputs": [],
   "source": [
    "estimator = Estimator()"
   ]
  },
  {
   "cell_type": "code",
   "execution_count": null,
   "id": "c86e8571-b3ea-4bc5-a885-a8a23e8c1950",
   "metadata": {},
   "outputs": [],
   "source": [
    "estimator.run_estimation()"
   ]
  },
  {
   "cell_type": "code",
   "execution_count": null,
   "id": "a94b1916-c6c1-46f9-beb7-c207ca7e1610",
   "metadata": {},
   "outputs": [],
   "source": []
  }
 ],
 "metadata": {
  "kernelspec": {
   "display_name": "Python 3 (ipykernel)",
   "language": "python",
   "name": "python3"
  },
  "language_info": {
   "codemirror_mode": {
    "name": "ipython",
    "version": 3
   },
   "file_extension": ".py",
   "mimetype": "text/x-python",
   "name": "python",
   "nbconvert_exporter": "python",
   "pygments_lexer": "ipython3",
   "version": "3.10.10"
  }
 },
 "nbformat": 4,
 "nbformat_minor": 5
}
